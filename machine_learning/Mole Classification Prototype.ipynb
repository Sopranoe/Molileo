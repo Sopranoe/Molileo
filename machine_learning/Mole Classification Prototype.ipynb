{
 "cells": [
  {
   "cell_type": "markdown",
   "metadata": {},
   "source": [
    "# Notebook: Mole Classification"
   ]
  },
  {
   "cell_type": "markdown",
   "metadata": {},
   "source": [
    "This notebook implements the Google MobileNet model to classify skin lesion images for melanoma using transfer learning."
   ]
  },
  {
   "cell_type": "markdown",
   "metadata": {},
   "source": [
    "### Datasets\n"
   ]
  },
  {
   "cell_type": "markdown",
   "metadata": {},
   "source": [
    "**Dataset used**: [Collected Medical Images of skin lesions - split in melanoma and inconspicuous](https://www.kaggle.com/drscarlat/melanoma)  \n",
    "Data in dataset from: [HAM10000 Skin Lesion Challenge](https://www.kaggle.com/kmader/skin-cancer-mnist-ham10000)  \n",
    "Origin of data: [ISIC Archive](https://www.isic-archive.com) "
   ]
  },
  {
   "cell_type": "markdown",
   "metadata": {},
   "source": [
    "### Literature\n",
    "\n",
    "[Stanford/Nature](https://cs.stanford.edu/people/esteva/nature/)  \n",
    "[Skin Cancer Classification using CNN](https://www.ncbi.nlm.nih.gov/pmc/articles/PMC6231861/)  \n",
    "[Machine Learning for ISIC Skin Cancer Classification Challenge](https://hackernoon.com/machine-learning-for-isic-skin-cancer-classification-challenge-part-1-ccddea4ec44a) \n",
    "[Documentation Tensorflow Transfer Learning](https://www.tensorflow.org/tutorials/images/transfer_learning)  \n",
    "Model structure taken from [example implementation for given dataset](https://www.kaggle.com/gabrielmv/melanoma-classifier-mobilenet)"
   ]
  },
  {
   "cell_type": "code",
   "execution_count": 1,
   "metadata": {},
   "outputs": [],
   "source": [
    "from tensorflow.keras.models import Model\n",
    "from tensorflow.keras.layers import Dense, Dropout\n",
    "from tensorflow.keras.preprocessing.image import ImageDataGenerator\n",
    "from tensorflow.keras.optimizers import Adam\n",
    "from tensorflow.keras.callbacks import ReduceLROnPlateau, ModelCheckpoint, EarlyStopping\n",
    "from tensorflow.keras.applications.mobilenet import MobileNet, preprocess_input\n",
    "import numpy as np\n",
    "from sklearn.metrics import roc_curve, auc\n",
    "import matplotlib.pyplot as plt"
   ]
  },
  {
   "cell_type": "markdown",
   "metadata": {},
   "source": [
    "Defining parameters for given dataset.  \n",
    "Adjust according to given data."
   ]
  },
  {
   "cell_type": "code",
   "execution_count": 2,
   "metadata": {},
   "outputs": [],
   "source": [
    "training_path = 'datasets/train_sep'\n",
    "validation_path = 'datasets/valid'\n",
    "test_path = 'datasets/test'\n",
    "\n",
    "train_batch_size = 16\n",
    "val_batch_size = 16\n",
    "test_batch_size = 16\n",
    "\n",
    "train_steps = np.ceil(10682 / train_batch_size) # number training samples\n",
    "val_steps = np.ceil(3562 / val_batch_size) # number validation samples\n",
    "test_steps = np.ceil(3561 / test_batch_size) # number test samples\n",
    "\n",
    "target_size = (224, 224)"
   ]
  },
  {
   "cell_type": "markdown",
   "metadata": {},
   "source": [
    "Generate the image batches using [Keras preprocessing image library](https://www.tensorflow.org/api_docs/python/tf/keras/preprocessing/image/ImageDataGenerator)."
   ]
  },
  {
   "cell_type": "code",
   "execution_count": 4,
   "metadata": {},
   "outputs": [
    {
     "name": "stdout",
     "output_type": "stream",
     "text": [
      "Found 10682 images belonging to 2 classes.\n",
      "Found 3562 images belonging to 2 classes.\n",
      "Found 3561 images belonging to 2 classes.\n"
     ]
    }
   ],
   "source": [
    "train_batches = ImageDataGenerator(rescale = 1./255).flow_from_directory(training_path,\n",
    "                                    target_size = target_size,\n",
    "                                    batch_size = train_batch_size,\n",
    "                                    class_mode = 'categorical')\n",
    "\n",
    "valid_batches = ImageDataGenerator(rescale = 1./255).flow_from_directory(validation_path,\n",
    "                                        target_size = target_size,\n",
    "                                        batch_size = val_batch_size,\n",
    "                                        class_mode = 'categorical')\n",
    "\n",
    "test_batches = ImageDataGenerator(rescale = 1./255).flow_from_directory(test_path,\n",
    "                                          target_size = target_size,\n",
    "                                          batch_size = test_batch_size,\n",
    "                                          class_mode = 'categorical',\n",
    "                                          shuffle = False)"
   ]
  },
  {
   "cell_type": "markdown",
   "metadata": {},
   "source": [
    "Add [callbacks](https://keras.io/callbacks/) for training process.  \n",
    "Using _ReduceLROnPlateau_ to detect periods of no improvement and adjust the learning rate. Can improve the results.  \n",
    "Using _EarlyStopping_ to stop training when no improvement possible."
   ]
  },
  {
   "cell_type": "code",
   "execution_count": 3,
   "metadata": {},
   "outputs": [],
   "source": [
    "callbacks = [\n",
    "        ReduceLROnPlateau(monitor = 'val_loss', factor = 0.2, patience = 8, verbose = 1, mode = 'min', min_lr = 0.00001),\n",
    "        EarlyStopping(monitor = 'val_loss', min_delta = 1e-10, patience = 15, verbose = 1)\n",
    "        ]"
   ]
  },
  {
   "cell_type": "markdown",
   "metadata": {},
   "source": [
    "Load MobileNet"
   ]
  },
  {
   "cell_type": "code",
   "execution_count": 5,
   "metadata": {},
   "outputs": [],
   "source": [
    "mobile = MobileNet()"
   ]
  },
  {
   "cell_type": "markdown",
   "metadata": {},
   "source": [
    "Replace last 6 layers with a dropout and dense layer to transfer MobileNet model to melanoma classification."
   ]
  },
  {
   "cell_type": "code",
   "execution_count": 6,
   "metadata": {},
   "outputs": [],
   "source": [
    "x = mobile.layers[-6].output\n",
    "x = Dropout(0.5)(x)\n",
    "predictions = Dense(2, activation='softmax')(x)    "
   ]
  },
  {
   "cell_type": "markdown",
   "metadata": {},
   "source": [
    "Freeze MobileNet layers for learning process."
   ]
  },
  {
   "cell_type": "code",
   "execution_count": 7,
   "metadata": {},
   "outputs": [],
   "source": [
    "for layer in mobile.layers:\n",
    "    layer.trainable = False"
   ]
  },
  {
   "cell_type": "markdown",
   "metadata": {},
   "source": [
    "Define melanoma classification model."
   ]
  },
  {
   "cell_type": "code",
   "execution_count": 8,
   "metadata": {},
   "outputs": [],
   "source": [
    "model = Model(inputs = mobile.input, outputs = predictions)"
   ]
  },
  {
   "cell_type": "markdown",
   "metadata": {},
   "source": [
    "Set model parameters for optimizer."
   ]
  },
  {
   "cell_type": "code",
   "execution_count": 9,
   "metadata": {},
   "outputs": [],
   "source": [
    "model.compile(Adam(), loss = 'categorical_crossentropy', metrics = ['accuracy'])"
   ]
  },
  {
   "cell_type": "markdown",
   "metadata": {},
   "source": [
    "Train melanoma classification model."
   ]
  },
  {
   "cell_type": "code",
   "execution_count": 10,
   "metadata": {},
   "outputs": [
    {
     "name": "stdout",
     "output_type": "stream",
     "text": [
      "Epoch 1/5\n",
      "668/668 [==============================] - 203s 304ms/step - loss: 0.3477 - accuracy: 0.8712 - val_loss: 0.2239 - val_accuracy: 0.9284\n",
      "Epoch 2/5\n",
      "668/668 [==============================] - 230s 344ms/step - loss: 0.2696 - accuracy: 0.9006 - val_loss: 0.2702 - val_accuracy: 0.9203\n",
      "Epoch 3/5\n",
      "668/668 [==============================] - 217s 325ms/step - loss: 0.2600 - accuracy: 0.9063 - val_loss: 0.2429 - val_accuracy: 0.9278\n",
      "Epoch 4/5\n",
      "668/668 [==============================] - 210s 315ms/step - loss: 0.2505 - accuracy: 0.9065 - val_loss: 0.2402 - val_accuracy: 0.9293\n",
      "Epoch 5/5\n",
      "668/668 [==============================] - 193s 289ms/step - loss: 0.2563 - accuracy: 0.9022 - val_loss: 0.3295 - val_accuracy: 0.8871\n"
     ]
    },
    {
     "data": {
      "text/plain": [
       "<tensorflow.python.keras.callbacks.History at 0x2577dc51630>"
      ]
     },
     "execution_count": 10,
     "metadata": {},
     "output_type": "execute_result"
    }
   ],
   "source": [
    "model.fit_generator(train_batches,\n",
    "                          steps_per_epoch = train_steps,\n",
    "                          validation_data = valid_batches,\n",
    "                          validation_steps = val_steps,\n",
    "                          epochs = 5,\n",
    "                          verbose = 1,\n",
    "                          callbacks = callbacks)"
   ]
  },
  {
   "cell_type": "markdown",
   "metadata": {},
   "source": [
    "Save model to disk. Can be necessary for testing or further usage without rerunning the training process after a kernel restart."
   ]
  },
  {
   "cell_type": "code",
   "execution_count": 11,
   "metadata": {},
   "outputs": [],
   "source": [
    "model.save('predict_melanoma.h5')"
   ]
  },
  {
   "cell_type": "markdown",
   "metadata": {},
   "source": [
    "Run model with the test dataset."
   ]
  },
  {
   "cell_type": "code",
   "execution_count": 12,
   "metadata": {},
   "outputs": [
    {
     "name": "stdout",
     "output_type": "stream",
     "text": [
      "223/223 [==============================] - 35s 158ms/step\n"
     ]
    }
   ],
   "source": [
    "test_labels = test_batches.classes\n",
    "predictions = model.predict_generator(test_batches, steps = val_steps, verbose = 1)"
   ]
  },
  {
   "cell_type": "markdown",
   "metadata": {},
   "source": [
    "Calculate false positive rate and true positive rate for all thresholds.  \n",
    "Calculate Area under the ROC curve."
   ]
  },
  {
   "cell_type": "code",
   "execution_count": 13,
   "metadata": {},
   "outputs": [],
   "source": [
    "fpr, tpr, thresholds = roc_curve(test_labels, predictions[:,1])"
   ]
  },
  {
   "cell_type": "code",
   "execution_count": 14,
   "metadata": {},
   "outputs": [
    {
     "name": "stdout",
     "output_type": "stream",
     "text": [
      "0.9591999507914376\n"
     ]
    }
   ],
   "source": [
    "auc_score = auc(fpr, tpr)\n",
    "print(auc_score)"
   ]
  },
  {
   "cell_type": "markdown",
   "metadata": {},
   "source": [
    "PLOT resulting ROC-Curve"
   ]
  },
  {
   "cell_type": "code",
   "execution_count": 15,
   "metadata": {},
   "outputs": [
    {
     "data": {
      "image/png": "[encoded data removed]",
      "text/plain": [
       "<Figure size 432x288 with 1 Axes>"
      ]
     },
     "metadata": {
      "needs_background": "light"
     },
     "output_type": "display_data"
    }
   ],
   "source": [
    "plt.figure(1)\n",
    "plt.plot([0, 1], [0, 1], 'k--', label='Random Classification \\n AUC = 0.5')\n",
    "plt.plot(fpr, tpr, label='Molileo Model Classification \\n(AUC = {:.3f})'.format(auc_score))\n",
    "plt.xlabel('False positive rate')\n",
    "plt.ylabel('True positive rate')\n",
    "plt.title('ROC curve')\n",
    "plt.legend(loc='best')\n",
    "plt.show()"
   ]
  },
  {
   "cell_type": "markdown",
   "metadata": {},
   "source": [
    "Load model from file if it's not loaded. Otherwise can be skipped."
   ]
  },
  {
   "cell_type": "code",
   "execution_count": 16,
   "metadata": {},
   "outputs": [],
   "source": [
    "from tensorflow.keras.models import load_model\n",
    "model = load_model('predict_melanoma.h5')"
   ]
  },
  {
   "cell_type": "markdown",
   "metadata": {},
   "source": [
    "Convert model to tensorflow lite model. [Documentation](https://www.tensorflow.org/lite/convert/python_api)"
   ]
  },
  {
   "cell_type": "code",
   "execution_count": 17,
   "metadata": {},
   "outputs": [],
   "source": [
    "import tensorflow as tf \n",
    "converter = tf.lite.TFLiteConverter.from_keras_model(model)\n",
    "tflite_model = converter.convert()"
   ]
  },
  {
   "cell_type": "markdown",
   "metadata": {},
   "source": [
    "Save/Overwrite model in .tflite format."
   ]
  },
  {
   "cell_type": "code",
   "execution_count": 18,
   "metadata": {},
   "outputs": [
    {
     "data": {
      "text/plain": [
       "12804896"
      ]
     },
     "execution_count": 18,
     "metadata": {},
     "output_type": "execute_result"
    }
   ],
   "source": [
    "open(\"../frontend_molileo/assets/predict_melanoma.tflite\", \"wb\").write(tflite_model)"
   ]
  }
 ],
 "metadata": {
  "kernelspec": {
   "display_name": "Python 3",
   "language": "python",
   "name": "python3"
  },
  "language_info": {
   "codemirror_mode": {
    "name": "ipython",
    "version": 3
   },
   "file_extension": ".py",
   "mimetype": "text/x-python",
   "name": "python",
   "nbconvert_exporter": "python",
   "pygments_lexer": "ipython3",
   "version": "3.6.9"
  }
 },
 "nbformat": 4,
 "nbformat_minor": 2
}
